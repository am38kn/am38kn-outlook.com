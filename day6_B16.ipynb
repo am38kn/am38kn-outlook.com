{
 "cells": [
  {
   "cell_type": "code",
   "execution_count": 1,
   "metadata": {},
   "outputs": [
    {
     "name": "stdout",
     "output_type": "stream",
     "text": [
      "['vikas', 'ravi', 'vivek', 'rahul']\n"
     ]
    }
   ],
   "source": [
    "students = ['vikas', 'ravi', 'vivek', 'rahul']\n",
    "print(students)"
   ]
  },
  {
   "cell_type": "code",
   "execution_count": 2,
   "metadata": {},
   "outputs": [
    {
     "name": "stdout",
     "output_type": "stream",
     "text": [
      "vikas\n",
      "ravi\n",
      "vivek\n",
      "rahul\n"
     ]
    }
   ],
   "source": [
    "for x in students:\n",
    "    print(x)"
   ]
  },
  {
   "cell_type": "code",
   "execution_count": 7,
   "metadata": {},
   "outputs": [
    {
     "name": "stdout",
     "output_type": "stream",
     "text": [
      "keep up the good work, vikas.\n",
      "\n",
      "keep up the good work, ravi.\n",
      "\n",
      "keep up the good work, vivek.\n",
      "\n",
      "keep up the good work, rahul.\n",
      "\n"
     ]
    }
   ],
   "source": [
    "for z in students:\n",
    "    print(f\"keep up the good work, {z}.\\n\")"
   ]
  },
  {
   "cell_type": "code",
   "execution_count": 9,
   "metadata": {},
   "outputs": [
    {
     "name": "stdout",
     "output_type": "stream",
     "text": [
      "keep up the good work, vikas\n",
      "looking for all ur practise files, vikas.\n",
      "\n",
      "keep up the good work, ravi\n",
      "looking for all ur practise files, ravi.\n",
      "\n",
      "keep up the good work, vivek\n",
      "looking for all ur practise files, vivek.\n",
      "\n",
      "keep up the good work, rahul\n",
      "looking for all ur practise files, rahul.\n",
      "\n"
     ]
    }
   ],
   "source": [
    "for z in students:\n",
    "    print(f\"keep up the good work, {z}\")\n",
    "    print(f\"looking for all ur practise files, {z}.\\n\")"
   ]
  },
  {
   "cell_type": "code",
   "execution_count": 10,
   "metadata": {},
   "outputs": [
    {
     "name": "stdout",
     "output_type": "stream",
     "text": [
      "keep up the good work, vikas\n",
      "looking for all ur practise files, vikas.\n",
      "\n",
      "keep up the good work, ravi\n",
      "looking for all ur practise files, ravi.\n",
      "\n",
      "keep up the good work, vivek\n",
      "looking for all ur practise files, vivek.\n",
      "\n",
      "keep up the good work, rahul\n",
      "looking for all ur practise files, rahul.\n",
      "\n",
      "thank you everyone\n"
     ]
    }
   ],
   "source": [
    "for z in students:\n",
    "    print(f\"keep up the good work, {z}\")\n",
    "    print(f\"looking for all ur practise files, {z}.\\n\")\n",
    "print(\"thank you everyone\")"
   ]
  },
  {
   "cell_type": "code",
   "execution_count": null,
   "metadata": {},
   "outputs": [],
   "source": []
  },
  {
   "cell_type": "code",
   "execution_count": 11,
   "metadata": {},
   "outputs": [
    {
     "name": "stdout",
     "output_type": "stream",
     "text": [
      "[1, 2, 3, 4, 5, 6, 7, 8, 9, 10]\n"
     ]
    }
   ],
   "source": [
    "num = list(range(1,11))\n",
    "print(num)"
   ]
  },
  {
   "cell_type": "code",
   "execution_count": 15,
   "metadata": {},
   "outputs": [
    {
     "name": "stdout",
     "output_type": "stream",
     "text": [
      "[2, 4, 6, 8, 10, 12, 14, 16, 18, 20, 22, 24, 26, 28]\n"
     ]
    }
   ],
   "source": [
    "#Even number\n",
    "even_num = list(range(2,30,2))\n",
    "print(even_num)"
   ]
  },
  {
   "cell_type": "code",
   "execution_count": null,
   "metadata": {},
   "outputs": [],
   "source": []
  },
  {
   "cell_type": "code",
   "execution_count": null,
   "metadata": {},
   "outputs": [],
   "source": []
  },
  {
   "cell_type": "code",
   "execution_count": null,
   "metadata": {},
   "outputs": [],
   "source": []
  }
 ],
 "metadata": {
  "kernelspec": {
   "display_name": "Python 3",
   "language": "python",
   "name": "python3"
  },
  "language_info": {
   "codemirror_mode": {
    "name": "ipython",
    "version": 3
   },
   "file_extension": ".py",
   "mimetype": "text/x-python",
   "name": "python",
   "nbconvert_exporter": "python",
   "pygments_lexer": "ipython3",
   "version": "3.7.6"
  }
 },
 "nbformat": 4,
 "nbformat_minor": 4
}
